{
 "cells": [
  {
   "cell_type": "markdown",
   "metadata": {},
   "source": [
    "Python Basics (Coming from C-based languages)\n",
    "=============\n",
    "\n",
    "Python is an example of very commonly used modern programming language. It was released in 1991, while C was first released in 1972. It is an excellent and versatile language choice for making complex C operations much simpler. Like,\n",
    "\n",
    "*   String Manipulation\n",
    "*   Networking\n",
    "\n",
    "Fortunately, Python is heavily inspired by C (its primary interpreter, Cpython, is actually written in C) and so the syntax should be a shallow learning curve for a C programmer. Unlike a C program, which typically has to be compiled before you can run it, a Python program can be run (in Python interpreter) without explicitly compiling it first.\n",
    "\n",
    "**Official Documentation - [docs.python.org/3/](docs.python.org/3/)**\n",
    "\n",
    "Tutorial — docs.python.org/3/tutorial/\n",
    "\n",
    "Language Reference — docs.python.org/3/reference/\n",
    "\n",
    "Standard Library Reference — docs.python.org/3/library/\n",
    "\n",
    "**Alternative tutorials**\n",
    "\n",
    "**Interactive:** [Codecademy](https://www.codecademy.com/learn/learn-python-3)\n",
    "\n",
    "**Video:** [Sentdex](https://pythonprogramming.net/introduction-learn-python-3-tutorials/), [FreeCodeCamp](https://www.youtube.com/watch?v=rfscVS0vtbw), [Corey Schafer](https://www.youtube.com/watch?v=YYXdXT2l-Gg&list=PL-osiE80TeTskrapNbzXhwoFUiLCjGgY7) \n",
    "\n",
    "Scalar Objects\n",
    "--------------\n",
    "\n",
    "Objects which cannot be subdivided are called scalar objects. (While, the objects which can be subdivided and their internal structure accessed are called non-scalar objects). In Python,\n",
    "\n",
    "*   `int` — represent **integers**\n",
    "*   `float` — represent **real numbers**\n",
    "*   `bool` — represent **boolean** values True and False\n",
    "*   `NoneType` — **special** and has one value, None\n",
    "\n",
    "You can use `type()` to see the type of an object:"
   ]
  },
  {
   "cell_type": "code",
   "execution_count": null,
   "metadata": {},
   "outputs": [],
   "source": [
    "type(7.0) #float"
   ]
  },
  {
   "cell_type": "markdown",
   "metadata": {},
   "source": [
    "\n",
    "You can convert objects from one type to another.\n"
   ]
  },
  {
   "cell_type": "code",
   "execution_count": null,
   "metadata": {},
   "outputs": [],
   "source": [
    "\n",
    "float(7)      # converts integer 7 to float 7.0  \n",
    "int(3.9)      # truncates float 3.9 to integer 3 "
   ]
  },
  {
   "cell_type": "markdown",
   "metadata": {},
   "source": [
    "**\\# Note that there is difference between int() and round()**\n",
    "\n",
    "Also `i/j` results in `float` while `i//j` results in `int` division.\n",
    "\n",
    "Indentation matters in Python\n",
    "-----------------------------\n",
    "\n",
    "It is how you denote block of code.\n",
    "\n",
    "![Indentation in Python](https://miro.medium.com/max/1400/1*QDH-T0Z6KPErsqkakCORQA.png)\n",
    "\n",
    "Variables\n",
    "=========\n",
    "\n",
    "Python variables have two big differences from C.\n",
    "\n",
    "*   No type specifier.\n",
    "*   Declared by initialisation only.\n",
    "*   (and no semicolon!)\n",
    "\n",
    "![C vs Python Variables](https://miro.medium.com/max/1400/1*TuuVU2oPDdEdUD4sHb8OPw.png)\n",
    "\n",
    "String\n",
    "------\n",
    "\n",
    "Strings can be enclosed in quotation marks or single quotes."
   ]
  },
  {
   "cell_type": "code",
   "execution_count": null,
   "metadata": {},
   "outputs": [],
   "source": [
    "hi = \"hello there\"  \n",
    "greetings = 'hello'"
   ]
  },
  {
   "cell_type": "markdown",
   "metadata": {},
   "source": [
    "Various operations can be performed on strings.\n",
    "\n",
    "*   `‘ab’ + ‘cd’` performs string **concatenation**\n",
    "*   `3 * ‘ab’` performs **successive concatenation**\n",
    "*   `len(‘abcd’)` calculates the **length** of the string\n",
    "*   `‘abcd’[1]` performs **indexing**\n",
    "*   `‘abcd’[1:3]` performs **slicing**\n",
    "\n",
    "String can be **sliced** using `[start:stop:step]`"
   ]
  },
  {
   "cell_type": "code",
   "execution_count": null,
   "metadata": {},
   "outputs": [],
   "source": [
    "s = \"abcdefgh\"\n",
    "s[::-1]                       # evaluates to “hgfedcba”  \n",
    "s[3:6]                        # evaluates to “def”  \n",
    "s[-1]                         # evaluates to “h”"
   ]
  },
  {
   "cell_type": "markdown",
   "metadata": {},
   "source": [
    "Strings are **immutable**"
   ]
  },
  {
   "cell_type": "code",
   "execution_count": null,
   "metadata": {},
   "outputs": [],
   "source": [
    "s = \"hello\"\n",
    "s[0] = \"y\"                    # error  \n",
    "s = \"y\" + s[1:len(s)]         # s is a new object"
   ]
  },
  {
   "cell_type": "markdown",
   "metadata": {},
   "source": [
    "**Conditionals**\n",
    "================\n",
    "\n",
    "All of the old favourites from C are still available for you to use, but they look a little bit different now.\n",
    "\n",
    "![](https://miro.medium.com/max/1400/1*k9h4qe4Xmdfdr2tfDtYJPA.png)\n",
    "\n",
    "**Loops**\n",
    "\n",
    "Two varieties (No `do while` loops):\n",
    "\n",
    "*   `while`\n",
    "*   `for`\n",
    "\n",
    "![C vs Python Loops](https://miro.medium.com/max/1400/1*3px0TZ5otsEDajcd4DyaoQ.png)\n",
    "\n",
    "In `range(start, stop, step)` the default values are start = 0 and step = 1.\n",
    "\n",
    "**Note that the** `++` **is not the increment operator in Python.**\n",
    "\n",
    "**Functions**\n",
    "=============\n",
    "\n",
    "Python has support for functions as well. Like variables, we don’t need to specify the return type of the function (because it doesn’t matter), nor the data types of any parameters.\n",
    "\n",
    "All functions are introduced with the `def` keyword.\n",
    "\n",
    "• Also, no need for main; the interpreter reads from top to bottom!\n",
    "\n",
    "• If you wish to define main nonetheless (and you might want to!), you must at the very end of your code have:"
   ]
  },
  {
   "cell_type": "code",
   "execution_count": null,
   "metadata": {},
   "outputs": [],
   "source": [
    "if __name__ == \"__main__\":\n",
    "    main()"
   ]
  },
  {
   "cell_type": "markdown",
   "metadata": {},
   "source": [
    "\n",
    "Example: Function to find the square of a given number"
   ]
  },
  {
   "cell_type": "code",
   "execution_count": null,
   "metadata": {},
   "outputs": [],
   "source": [
    "def square(x):\n",
    "    \"\"\"\n",
    "    Input: x, an integer\n",
    "    Returns the square of x\n",
    "    \"\"\"\n",
    "    return x ** 2\n",
    "def main():\n",
    "    print(square(5))           # calling the function\n",
    "if __name__ == \"__main__\":\n",
    "    main()                     # outputs 25"
   ]
  },
  {
   "cell_type": "markdown",
   "metadata": {},
   "source": [
    "**Note that (triple quotes)** `“”” … “””` **are used for multiple line string literals.** In the above code snippet it is used as **docstring**/specification for the square() (doing so is optional but recommended).\n",
    "\n",
    "Function are **first class objects**. Functions arguments can take on any type, even other functions."
   ]
  },
  {
   "cell_type": "code",
   "execution_count": null,
   "metadata": {},
   "outputs": [],
   "source": [
    "def func_a():\n",
    "    print('inside func_a')\n",
    "def func_b(y):\n",
    "    print('inside func_b')\n",
    "    return y\n",
    "def func_c(z):\n",
    "    print('inside func_c')\n",
    "    return z()\n",
    "\n",
    "print(func_a())\n",
    "print(5 + func_b(2))\n",
    "print(func_c(func_a))           # call func_c takes another function\n",
    "                                # func_a as a parameter"
   ]
  },
  {
   "cell_type": "markdown",
   "metadata": {},
   "source": [
    "Interestingly, in Python, you’ll often have to decide between using **keyword argument** and positional arguments. Each of the following invocations is equivalent."
   ]
  },
  {
   "cell_type": "code",
   "execution_count": null,
   "metadata": {},
   "outputs": [],
   "source": [
    "def printName(firstName, lastName, reverse = False):\n",
    "    if reverse:\n",
    "        print(lastName + ', ' + firstName)\n",
    "    else:\n",
    "        print(firstName, lastName)\n",
    "\n",
    "printName(\"Samer\", \"Ahmed\", False)\n",
    "printName(\"Samer\", \"Ahmed\")\n",
    "printName(\"Samer\", lastName = \"Ahmed\", reverse = False)\n",
    "printName(lastName = \"Ahmed\", reverse = False, firstName = \"Samer\")"
   ]
  },
  {
   "cell_type": "markdown",
   "metadata": {},
   "source": [
    "**Output: print()**\n",
    "-------------------\n",
    "\n",
    "Following are ways to interpolate variables into our printed statements."
   ]
  },
  {
   "cell_type": "code",
   "execution_count": null,
   "metadata": {},
   "outputs": [],
   "source": [
    "x = 10\n",
    "y = 7\n",
    "print(\"my fav num is\", x, \",\", \"not\", y)\n",
    "print(\"my fav num is \" + str(x) + \", \" + \"not \" + str(y))\n",
    "print(\"my fav num is %s, not %s\" %(x, y))\n",
    "print(\"my fav num is {1}, not {0}\".format(y, x))"
   ]
  },
  {
   "cell_type": "markdown",
   "metadata": {},
   "source": [
    "**Note the difference in spaces and variables passed into the above print statements.**\n",
    "\n",
    "But my favorite is f'strings. You can read more about their epic uses [here](https://realpython.com/python-f-strings/)"
   ]
  },
  {
   "cell_type": "code",
   "execution_count": null,
   "metadata": {},
   "outputs": [],
   "source": [
    "\n",
    "print (f\"my fav num is {x}, not {y}\")"
   ]
  },
  {
   "cell_type": "markdown",
   "metadata": {},
   "source": [
    "\n",
    "**Input: input()**\n",
    "------------------\n",
    "\n",
    "`input()` prints whatever is within the quotes. Then, it returns the user entered sequence. You can bind that value to a variable for reference."
   ]
  },
  {
   "cell_type": "code",
   "execution_count": null,
   "metadata": {},
   "outputs": [],
   "source": [
    "text = input(\"Type anything... \")\n",
    "print(5*text)"
   ]
  },
  {
   "cell_type": "markdown",
   "metadata": {},
   "source": [
    "**Note that input returns string and must be cast if working with numbers.**"
   ]
  },
  {
   "cell_type": "code",
   "execution_count": null,
   "metadata": {},
   "outputs": [],
   "source": [
    "num = int(input(\"Type a number... \"))\n",
    "print(5*num)"
   ]
  },
  {
   "cell_type": "markdown",
   "metadata": {},
   "source": [
    "Including Files\n",
    "===============\n",
    "\n",
    "Just like C programs can consist of multiple files to form a single program, so can Python programs tie files together.\n",
    "\n",
    "![](https://miro.medium.com/max/1400/1*IhCurYsCskM0Six0OwzEVQ.png)\n",
    "\n",
    "File Handling\n",
    "=============\n",
    "\n",
    "Every operating system has its own way of handling files; Python provides an operating-system independent means to access files, using a **file handle.**\n"
   ]
  },
  {
   "cell_type": "code",
   "execution_count": null,
   "metadata": {},
   "outputs": [],
   "source": [
    "nameHandle = open('kids', 'w')"
   ]
  },
  {
   "cell_type": "markdown",
   "metadata": {},
   "source": [
    "It creates a file named `kids` and returns file handle which you can name and thus reference. The `w` indicates that the file is to be opened for writing into.\n",
    "\n",
    "Example:"
   ]
  },
  {
   "cell_type": "code",
   "execution_count": null,
   "metadata": {},
   "outputs": [],
   "source": [
    "nameHandle = open('kids', 'w')\n",
    "for i in range(2):\n",
    "    name = input('Enter name: ')\n",
    "    nameHandle.write(name + '\\n')\n",
    "nameHandle.close()\n",
    "\n",
    "nameHandle = open('kids', 'r')\n",
    "for line in nameHandle:\n",
    "    print(line)\n",
    "nameHandle.close()"
   ]
  },
  {
   "cell_type": "markdown",
   "metadata": {},
   "source": [
    "Best practice is to use \"with\":"
   ]
  },
  {
   "cell_type": "code",
   "execution_count": null,
   "metadata": {},
   "outputs": [],
   "source": [
    "with open(\"test.txt\",'w',encoding = 'utf-8') as f:\n",
    "    f.write(\"my first file\\n\")\n",
    "    f.write(\"This file\\n\\n\")\n",
    "    f.write(\"contains three lines\\n\")"
   ]
  },
  {
   "cell_type": "markdown",
   "metadata": {},
   "source": [
    "**Structured Types**\n",
    "====================\n",
    "\n",
    "**\\[~Arrays~\\] Lists**\n",
    "======================\n",
    "\n",
    "Here’s where things really start to get a lot better than C. Python arrays (more appropriately known as **_lists_**) are **not** fixed in size; they can grow or shrink as needed, and you can always tack extra elements onto your array and splice things in and out easily.\n",
    "\n",
    "**Declaring a list** is pretty straightforward.\n"
   ]
  },
  {
   "cell_type": "code",
   "execution_count": null,
   "metadata": {},
   "outputs": [],
   "source": [
    "nums = []                       # empty list\n",
    "nums = [1, 2, 3, 4]             # explicitly created list\n",
    "nums = list()                   # empty list using list()"
   ]
  },
  {
   "cell_type": "markdown",
   "metadata": {},
   "source": [
    "\n",
    "**Operations on lists**\n",
    "-----------------------\n",
    "\n",
    "**Tacking values onto an existing list** can be done in few ways.\n",
    "\n",
    "`nums = [1, 2, 3, 4]`\n"
   ]
  },
  {
   "cell_type": "code",
   "execution_count": null,
   "metadata": {},
   "outputs": [],
   "source": [
    "nums.append(5)             # append 5\n",
    "nums.insert(4, 5)          # insert 5 at index 4\n",
    "nums[len(nums):] = [5, 6]  # splicing another list [5, 6] onto nums\n",
    "nums = nums + [5, 6]       # concatenation using + operator\n",
    "nums.extend([5, 6])        # extends nums to [1, 2, 3, 4, 5, 6]"
   ]
  },
  {
   "cell_type": "markdown",
   "metadata": {},
   "source": [
    "\n",
    "Note that the list are **ordered**, **mutable** sequence of data. They usually contain homogeneous elements (i.e. all integers), but can contain mixed types too.\n",
    "\n",
    "**Remove elements** of the list.\n"
   ]
  },
  {
   "cell_type": "code",
   "execution_count": null,
   "metadata": {},
   "outputs": [],
   "source": [
    "del(num[index])        # deletes element at specific index\n",
    "nums.pop()             # removes element at end of the list\n",
    "nums.remove(element)   # removes a specific element"
   ]
  },
  {
   "cell_type": "markdown",
   "metadata": {},
   "source": [
    "\n",
    "Note that if the element occurs multiple times, `remove(element)` removes first occurrence. But, if element is not in the list it gives an error.\n",
    "\n",
    "**Iterating over lists**\n",
    "------------------------\n",
    "\n",
    "Consider the example of computing the sum of elements of a list. A common pattern would be.\n"
   ]
  },
  {
   "cell_type": "code",
   "execution_count": null,
   "metadata": {},
   "outputs": [],
   "source": [
    "total = 0\n",
    "for i in range(len(nums)):\n",
    "    total += nums[i]\n",
    "print(total)"
   ]
  },
  {
   "cell_type": "markdown",
   "metadata": {},
   "source": [
    "\n",
    "Like strings, you can also iterate over list elements directly.\n"
   ]
  },
  {
   "cell_type": "code",
   "execution_count": null,
   "metadata": {},
   "outputs": [],
   "source": [
    "total = 0\n",
    "for num in nums:\n",
    "    total += num\n",
    "print(total)"
   ]
  },
  {
   "cell_type": "markdown",
   "metadata": {},
   "source": [
    "# Keeping Count\n",
    "\n",
    "Normally, you'd use a separate variable to do this."
   ]
  },
  {
   "cell_type": "code",
   "execution_count": null,
   "metadata": {},
   "outputs": [],
   "source": [
    "values = [\"a\", \"b\", \"c\"]\n",
    "index = 0\n",
    "\n",
    "for value in values:\n",
    "    print(index, value)\n",
    "    index += 1\n",
    "\n",
    "# 0 a\n",
    "# 1 b\n",
    "# 2 c"
   ]
  },
  {
   "cell_type": "markdown",
   "metadata": {},
   "source": [
    "\n",
    "But it's more convenient to use enumerate()"
   ]
  },
  {
   "cell_type": "code",
   "execution_count": null,
   "metadata": {},
   "outputs": [],
   "source": [
    "for count, value in enumerate(values): #you can also pass in start=1 for the print not to have a 0\n",
    "    print(count, value)"
   ]
  },
  {
   "cell_type": "markdown",
   "metadata": {},
   "source": [
    "# List Comprehensions\n",
    "\n",
    "Very handy iteration method"
   ]
  },
  {
   "cell_type": "code",
   "execution_count": 1,
   "metadata": {},
   "outputs": [],
   "source": [
    "#a list of 500 sequential numbers\n",
    "nums = [x for x in range(500)]  # [0,1,2...,498,499]\n",
    "\n",
    "#for a list of squares, you can do this\n",
    "squares = []\n",
    "for i in range(1,10+1):\n",
    "    squares.append(i**2)\n",
    "\n",
    "#but it's easier to just do this\n",
    "squares = [ i**2 for i in range(1,10+1) ]\n"
   ]
  },
  {
   "cell_type": "markdown",
   "metadata": {},
   "source": [
    "\n",
    "**Converting lists to strings and back**\n",
    "----------------------------------------\n",
    "\n",
    "You can convert **strings to lists** with `list(str)`. It returns a string with every character from `str` element in a `list`.\n",
    "\n",
    "Also, `str.split()` can be used to split a string on a character parameter. If passed without a parameter it splits on spaces.\n"
   ]
  },
  {
   "cell_type": "code",
   "execution_count": null,
   "metadata": {},
   "outputs": [],
   "source": [
    "str = \"I <3 PY\"        # str is a string\n",
    "list(str)              # returns [‘I’,’ ’,’<’,’3’,’ ’,’P’,’Y’]\n",
    "str.split('<')         # returns [‘I’,’3 PY’]"
   ]
  },
  {
   "cell_type": "markdown",
   "metadata": {},
   "source": [
    "\n",
    "To turn a **list of characters into a string**, you can use `‘’.join(L)`, where, character given in quotes is added between every element.\n"
   ]
  },
  {
   "cell_type": "code",
   "execution_count": null,
   "metadata": {},
   "outputs": [],
   "source": [
    "L = ['a','b','c']\n",
    "''.join(L)             # returns “abc”\n",
    "'_'.join(L)            # returns “a_b_c”"
   ]
  },
  {
   "cell_type": "markdown",
   "metadata": {},
   "source": [
    "\n",
    "**Sorting Lists**\n",
    "-----------------\n",
    "\n",
    "Calling `sort()` **mutates** the list, and returns nothing.  \n",
    "Calling `sorted()` **does not mutate** list, therefore you must assign the result to a variable.\n"
   ]
  },
  {
   "cell_type": "code",
   "execution_count": null,
   "metadata": {},
   "outputs": [],
   "source": [
    "L.sort()               # mutates L\n",
    "AL = sorted(L)         # does not mutate L"
   ]
  },
  {
   "cell_type": "markdown",
   "metadata": {},
   "source": [
    "\n",
    "**Tuples**\n",
    "==========\n",
    "\n",
    "Tuples are **ordered**, **immutable** sets of data; they are great for associating collections of data (of different types), but where those values are unlikely to change.\n"
   ]
  },
  {
   "cell_type": "code",
   "execution_count": null,
   "metadata": {},
   "outputs": [],
   "source": [
    "te = ()                # empty tuple\n",
    "\n",
    "t = (2,\"one\",3)\n",
    "t[0]                   # evaluates to 2\n",
    "\n",
    "(2,\"one\",3) + (5,6)    # evaluates to (2,”one”,3,5,6)\n",
    "\n",
    "t[1:2]                 # slice tuple, evaluates to (”one”,)\n",
    "t[1:3]                 # slice tuple, evaluates to (“one”, 3)\n",
    "t[1] = 4               # error, cannot modify a tuple"
   ]
  },
  {
   "cell_type": "markdown",
   "metadata": {},
   "source": [
    "\n",
    "**Note that the extra comma in** `(“one”,)` **represents a tuple with one element.**\n",
    "\n",
    "The following code creates a list of tuples and then iterates over each of them.\n"
   ]
  },
  {
   "cell_type": "code",
   "execution_count": null,
   "metadata": {},
   "outputs": [],
   "source": [
    "pizzas = [\n",
    "    (\"cheese\", 150),\n",
    "    (\"chicken\", 200),\n",
    "    (\"vegetable\", 170)\n",
    "]\n",
    "for pizza, cost in pizzas:\n",
    "    print(\"KSh. {1} is the cost of {0} pizza\".format(pizza, cost))\n",
    "\n",
    "# KSh. 150 is the cost of cheese pizza\n",
    "# KSh. 200 is the cost of chicken pizza\n",
    "# KSh. 170 is the cost of vegetable pizza"
   ]
  },
  {
   "cell_type": "markdown",
   "metadata": {},
   "source": [
    "\n",
    "Tuples can be conveniently used to **swap** elements.\n"
   ]
  },
  {
   "cell_type": "code",
   "execution_count": null,
   "metadata": {},
   "outputs": [],
   "source": [
    "(x, y) = (y, x)"
   ]
  },
  {
   "cell_type": "markdown",
   "metadata": {},
   "source": [
    "\n",
    "**Dictionaries**\n",
    "================\n",
    "\n",
    "Python also has built in support for dictionaries, allowing you to specify list indices with words or phrases (keys), instead of integers, which you were restricted to in C.\n"
   ]
  },
  {
   "cell_type": "code",
   "execution_count": null,
   "metadata": {},
   "outputs": [],
   "source": [
    "pizzas = {\n",
    "    \"cheese\": 150,\n",
    "    \"chicken\": 200,\n",
    "    \"vegetable\": 170\n",
    "}"
   ]
  },
  {
   "cell_type": "markdown",
   "metadata": {},
   "source": [
    "\n",
    "**Add/Change Entry**\n",
    "--------------------\n"
   ]
  },
  {
   "cell_type": "code",
   "execution_count": null,
   "metadata": {},
   "outputs": [],
   "source": [
    "pizza[\"cheese\"] = 120     # changing \"cheese\" value to 120\n",
    "pizza[\"bacon\"] = 140      # adding \"bacon\": 140 to pizzas"
   ]
  },
  {
   "cell_type": "markdown",
   "metadata": {},
   "source": [
    "\n",
    "**Test if key in the dictionary**\n",
    "---------------------------------\n"
   ]
  },
  {
   "cell_type": "code",
   "execution_count": null,
   "metadata": {},
   "outputs": [],
   "source": [
    "\"cheese\" in pizzas        # returns True\n",
    "\"pineapple\" in pizzas     # returns False"
   ]
  },
  {
   "cell_type": "markdown",
   "metadata": {},
   "source": [
    "\n",
    "**Delete entry**\n",
    "----------------\n"
   ]
  },
  {
   "cell_type": "code",
   "execution_count": null,
   "metadata": {},
   "outputs": [],
   "source": [
    "del(pizzas[\"cheese\"])"
   ]
  },
  {
   "cell_type": "markdown",
   "metadata": {},
   "source": [
    "\n",
    "**Get an iterable of all keys**\n",
    "-------------------------------\n"
   ]
  },
  {
   "cell_type": "code",
   "execution_count": null,
   "metadata": {},
   "outputs": [],
   "source": [
    "\n",
    "pizzas.keys() \n",
    "# returns [\"cheese\", \"chicken\", \"vegetable\"]\n"
   ]
  },
  {
   "cell_type": "markdown",
   "metadata": {},
   "source": [
    "\n",
    "**Get an iterable of all values**\n",
    "---------------------------------\n"
   ]
  },
  {
   "cell_type": "code",
   "execution_count": null,
   "metadata": {},
   "outputs": [],
   "source": [
    "pizza.values()            # returns [150, 170, 200]"
   ]
  },
  {
   "cell_type": "markdown",
   "metadata": {},
   "source": [
    "\n",
    "**Note that although values can be immutable and mutable type, keys must be unique and of immutable type.**\n",
    "\n",
    "The for loop in Python is extremely flexible!\n"
   ]
  },
  {
   "cell_type": "code",
   "execution_count": null,
   "metadata": {},
   "outputs": [],
   "source": [
    "for pie in pizzas:\n",
    "    print(pie)\n",
    "# cheese\n",
    "# chicken\n",
    "# vegetable\n",
    "# bacon\n",
    "for pie, price in pizzas.items():\n",
    "    print(price)\n",
    "# 170\n",
    "# 120\n",
    "# 140\n",
    "# 200"
   ]
  },
  {
   "cell_type": "markdown",
   "metadata": {},
   "source": [
    "# Garbage Collection\n",
    "Will cover that next week (along with some tips & tricks, + gotchas), after you've had some more experience with Python"
   ]
  }
 ],
 "metadata": {
  "kernelspec": {
   "display_name": "Python 3.8.8 ('base')",
   "language": "python",
   "name": "python3"
  },
  "language_info": {
   "codemirror_mode": {
    "name": "ipython",
    "version": 3
   },
   "file_extension": ".py",
   "mimetype": "text/x-python",
   "name": "python",
   "nbconvert_exporter": "python",
   "pygments_lexer": "ipython3",
   "version": "3.8.8"
  },
  "orig_nbformat": 4,
  "vscode": {
   "interpreter": {
    "hash": "3067ead486e059ec00ffe7555bdb889e6e264a24dc711bf108106cc7baee8d5d"
   }
  }
 },
 "nbformat": 4,
 "nbformat_minor": 2
}
